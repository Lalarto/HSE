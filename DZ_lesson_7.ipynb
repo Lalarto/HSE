{
 "cells": [
  {
   "cell_type": "code",
   "execution_count": 21,
   "id": "40af3048",
   "metadata": {},
   "outputs": [
    {
     "data": {
      "text/plain": [
       "-0.8588000000000022"
      ]
     },
     "execution_count": 21,
     "metadata": {},
     "output_type": "execute_result"
    }
   ],
   "source": [
    "#Задание 1 и 2\n",
    "\n",
    "import requests\n",
    "import json\n",
    "\n",
    "class Rate:\n",
    "    def __init__(self, format='value',diff=False):\n",
    "        self.format = format\n",
    "        self.diff=diff\n",
    "    # Задание 1 Функция с максимальным значением курса    \n",
    "    def max_cur(self):\n",
    "        r_json = self.exchange_rates()\n",
    "        all_currencies_value={}\n",
    "        for element in r_json:\n",
    "            all_currencies_value[element]=r_json[element]['Value']\n",
    "        max_currencies=max(all_currencies_value.keys(),key=(lambda x:all_currencies_value[x]))\n",
    "        return(max_currencies)\n",
    "\n",
    "    def exchange_rates(self):\n",
    "        r = requests.get(\"https://www.cbr-xml-daily.ru/daily_json.js\")\n",
    "        return r.json()['Valute']\n",
    "    \n",
    "    def make_format(self, currency):\n",
    "        response = self.exchange_rates()\n",
    "        \n",
    "        if currency in response:\n",
    "            if self.format == 'full':\n",
    "                return response[currency]\n",
    "            \n",
    "            if self.format == 'value':\n",
    "                #Проверка для задания 2 насчет diff\n",
    "                if not self.diff:\n",
    "                    return response[currency]['Value']\n",
    "                else:\n",
    "                    return response[currency]['Value']-response[currency]['Previous']\n",
    "        \n",
    "        return 'Error'\n",
    "    \n",
    "    def eur(self):\n",
    "        \"\"\"Возвращает курс евро на сегодня в формате self.format\"\"\"\n",
    "        return self.make_format('EUR')\n",
    "    \n",
    "    def usd(self):\n",
    "        \"\"\"Возвращает курс доллара на сегодня в формате self.format\"\"\"\n",
    "        return self.make_format('USD')\n",
    "    \n",
    "    def brl(self):\n",
    "        \"\"\"Возвращает курс бразильского реала на сегодня в формате self.format\"\"\"\n",
    "        return self.make_format('BRL')\n",
    "a = Rate()\n",
    "a.max_cur()\n",
    "'CNY'\n",
    "a.usd()\n",
    "61.2475\n",
    "a.diff = True\n",
    "a.usd()"
   ]
  },
  {
   "cell_type": "code",
   "execution_count": 22,
   "id": "01564203",
   "metadata": {},
   "outputs": [
    {
     "name": "stdout",
     "output_type": "stream",
     "text": [
      "Анна 1\n",
      "Анна 1\n",
      "Анна 2\n",
      "Анна 2\n",
      "Анна 2\n",
      "Анна 2\n",
      "Анна 2\n",
      "Анна 2\n",
      "Анна 2\n",
      "Анна 3\n",
      "Анна 3\n",
      "Анна 3\n",
      "Анна 3\n",
      "Анна 3\n",
      "Анна 3\n",
      "Анна 3\n",
      "Анна 4\n",
      "Анна 4\n",
      "Анна 4\n",
      "Анна 4\n"
     ]
    }
   ],
   "source": [
    "#Задание 3\n",
    "\n",
    "class Employee:\n",
    "    def __init__(self, name, seniority,awards):\n",
    "        self.name = name\n",
    "        self.seniority = seniority\n",
    "        self.awards= awards\n",
    "        self.grade = 1\n",
    "    \n",
    "    def grade_up(self):\n",
    "        \"\"\"Повышает уровень сотрудника\"\"\"\n",
    "        self.grade += 1\n",
    "    \n",
    "    def publish_grade(self):\n",
    "        \"\"\"Публикация результатов аккредитации сотрудников\"\"\"\n",
    "        print(self.name, self.grade)\n",
    "    \n",
    "    def check_if_it_is_time_for_upgrade(self):\n",
    "        pass\n",
    "\n",
    "class Designer (Employee):\n",
    "    def __init__(self, name, seniority, awards):\n",
    "        super().__init__(name, seniority, awards)\n",
    "        \n",
    "    def check_if_it_is_time_for_upgrade(self):\n",
    "        if self.seniority==0: \n",
    "            self.seniority=1+self.awards*2\n",
    "        else:\n",
    "            self.seniority+=1\n",
    "        if self.seniority % 7==0:\n",
    "                self.grade_up()\n",
    "        \n",
    "        return self.publish_grade()\n",
    "anna = Designer('Анна', seniority=0, awards=2)\n",
    "for i in range(20):\n",
    "    anna.check_if_it_is_time_for_upgrade()"
   ]
  }
 ],
 "metadata": {
  "kernelspec": {
   "display_name": "Python 3 (ipykernel)",
   "language": "python",
   "name": "python3"
  },
  "language_info": {
   "codemirror_mode": {
    "name": "ipython",
    "version": 3
   },
   "file_extension": ".py",
   "mimetype": "text/x-python",
   "name": "python",
   "nbconvert_exporter": "python",
   "pygments_lexer": "ipython3",
   "version": "3.9.12"
  }
 },
 "nbformat": 4,
 "nbformat_minor": 5
}
